{
 "cells": [
  {
   "cell_type": "code",
   "execution_count": 1,
   "metadata": {
    "scrolled": true
   },
   "outputs": [
    {
     "name": "stdout",
     "output_type": "stream",
     "text": [
      "  1  2  3  4  5  6  7  8  9\n",
      "  2  4  6  8 10 12 14 16 18\n",
      "  3  6  9 12 15 18 21 24 27\n",
      "  4  8 12 16 20 24 28 32 36\n",
      "  5 10 15 20 25 30 35 40 45\n",
      "  6 12 18 24 30 36 42 48 54\n",
      "  7 14 21 28 35 42 49 56 63\n",
      "  8 16 24 32 40 48 56 64 72\n",
      "  9 18 27 36 45 54 63 72 81\n"
     ]
    }
   ],
   "source": [
    "#  第1題\n",
    "for i in range(1, 10):\n",
    "    for j in range(1, 10):\n",
    "        print('%3d' %(i*j), end='')\n",
    "        \n",
    "    print(end='\\n')"
   ]
  },
  {
   "cell_type": "code",
   "execution_count": 2,
   "metadata": {},
   "outputs": [
    {
     "name": "stdout",
     "output_type": "stream",
     "text": [
      "請輸入n = 5\n",
      "請輸入m = 2\n",
      "C(5, 2)組合 = 10\n"
     ]
    }
   ],
   "source": [
    "#  第2題\n",
    "def C(n, m):\n",
    "    if n == m or m == 0:\n",
    "        return 1\n",
    "    else :\n",
    "        return C(n-1, m-1) + C(n-1, m)\n",
    "    \n",
    "while True:\n",
    "    n = eval(input('請輸入n = '))\n",
    "    m = eval(input('請輸入m = '))\n",
    "    \n",
    "    if n>=0 and m>=0 and n>m:\n",
    "        break\n",
    "    else:\n",
    "        print('輸入資料不符, 請重新輸入...')\n",
    "\n",
    "ans = C(n, m)\n",
    "print('C(%d, %d)組合 = %d' %(n, m, ans))"
   ]
  },
  {
   "cell_type": "code",
   "execution_count": 3,
   "metadata": {
    "scrolled": true
   },
   "outputs": [
    {
     "name": "stdout",
     "output_type": "stream",
     "text": [
      "排  序  前:  a[0] =  3  a[1] =-25  a[2] = 24  a[3] = 13  a[4] = -6\n",
      "第 1 次排列:  a[0] =-25  a[1] =  3  a[2] = 13  a[3] = -6  a[4] = 24\n",
      "第 2 次排列:  a[0] =-25  a[1] =  3  a[2] = -6  a[3] = 13  a[4] = 24\n",
      "第 3 次排列:  a[0] =-25  a[1] = -6  a[2] =  3  a[3] = 13  a[4] = 24\n",
      "第 4 次排列:  a[0] =-25  a[1] = -6  a[2] =  3  a[3] = 13  a[4] = 24"
     ]
    }
   ],
   "source": [
    "#  第3題\n",
    "a = [3, -25, 24, 13, -6]\n",
    "print('排  序  前:', end='')\n",
    "\n",
    "for i in range(5):\n",
    "    print('  a[%d] =%3d' %(i, a[i]), end='')\n",
    "\n",
    "for loop in range(1, 5):\n",
    "    for index in range(0, (5-loop)):\n",
    "        if a[index] > a[index+1]:\n",
    "            temp = a[index]\n",
    "            a[index] = a[index+1]\n",
    "            a[index+1] = temp\n",
    "            \n",
    "    print()\n",
    "    print('第 %d 次排列:' %loop, end='')\n",
    "    \n",
    "    for j in range(5):\n",
    "        print('  a[%d] =%3d' %(j, a[j]), end='')"
   ]
  },
  {
   "cell_type": "code",
   "execution_count": 4,
   "metadata": {},
   "outputs": [
    {
     "name": "stdout",
     "output_type": "stream",
     "text": [
      "排序前:[1, 4, 2, 3.6, -1, 0, 25, -34, 8, 9, 1, 0]\n",
      "排序後:[-34, -1, 0, 0, 1, 1, 2, 3.6, 4, 8, 9, 25]\n"
     ]
    }
   ],
   "source": [
    "#  第4題\n",
    "def mergeSort(nums):\n",
    "    if len(nums) < 2:\n",
    "        return nums\n",
    "    \n",
    "    mid = len(nums) // 2\n",
    "    left = mergeSort(nums[:mid])\n",
    "    right = mergeSort(nums[mid:])\n",
    "    \n",
    "    result = []\n",
    "    while left and right:\n",
    "        if left[0] <= right[0]:\n",
    "            result.append(left.pop(0))\n",
    "        else:\n",
    "            result.append(right.pop(0))\n",
    "            \n",
    "    if left:\n",
    "        result += left\n",
    "    if right:\n",
    "        result += right\n",
    "        \n",
    "    return result\n",
    "\n",
    "data1 = [1, 4, 2, 3.6, -1, 0, 25, -34, 8, 9, 1, 0]\n",
    "print('排序前:{}'.format(data1))\n",
    "data2 = mergeSort(data1)\n",
    "print('排序後:{}'.format(data2))"
   ]
  }
 ],
 "metadata": {
  "kernelspec": {
   "display_name": "Python 3",
   "language": "python",
   "name": "python3"
  },
  "language_info": {
   "codemirror_mode": {
    "name": "ipython",
    "version": 3
   },
   "file_extension": ".py",
   "mimetype": "text/x-python",
   "name": "python",
   "nbconvert_exporter": "python",
   "pygments_lexer": "ipython3",
   "version": "3.8.5"
  }
 },
 "nbformat": 4,
 "nbformat_minor": 4
}
